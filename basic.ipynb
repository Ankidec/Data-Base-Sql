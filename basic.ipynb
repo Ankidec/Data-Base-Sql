{
    "metadata": {
        "kernelspec": {
            "name": "SQL",
            "display_name": "SQL",
            "language": "sql"
        },
        "language_info": {
            "name": "sql",
            "version": ""
        }
    },
    "nbformat_minor": 2,
    "nbformat": 4,
    "cells": [
        {
            "cell_type": "code",
            "source": [
                "select database();"
            ],
            "metadata": {
                "azdata_cell_guid": "5018cefe-c0cd-4548-95c0-dfe1ff48f383",
                "language": "sql"
            },
            "outputs": [
                {
                    "output_type": "display_data",
                    "data": {
                        "text/html": "(1 row(s) affected)"
                    },
                    "metadata": {}
                },
                {
                    "output_type": "display_data",
                    "data": {
                        "text/html": "Total execution time: 00:00:01.021"
                    },
                    "metadata": {}
                },
                {
                    "output_type": "execute_result",
                    "execution_count": 2,
                    "data": {
                        "application/vnd.dataresource+json": {
                            "schema": {
                                "fields": [
                                    {
                                        "name": "database()"
                                    }
                                ]
                            },
                            "data": [
                                {
                                    "database()": "NULL"
                                }
                            ]
                        },
                        "text/html": "<table><tr><th>database()</th></tr><tr><td>NULL</td></tr></table>"
                    },
                    "metadata": {}
                }
            ],
            "execution_count": 2
        },
        {
            "cell_type": "code",
            "source": [
                "USE sakila; --DATA BASE CHANGE"
            ],
            "metadata": {
                "azdata_cell_guid": "fa089b9c-23a4-450a-803f-82082dd3eacb",
                "language": "sql"
            },
            "outputs": [
                {
                    "output_type": "display_data",
                    "data": {
                        "text/html": "Commands completed successfully"
                    },
                    "metadata": {}
                },
                {
                    "output_type": "display_data",
                    "data": {
                        "text/html": "Total execution time: 00:00:00"
                    },
                    "metadata": {}
                }
            ],
            "execution_count": 1
        },
        {
            "cell_type": "code",
            "source": [
                "show databases;"
            ],
            "metadata": {
                "azdata_cell_guid": "bf69b97a-8243-475b-ab90-7cfc79a51de5",
                "language": "sql"
            },
            "outputs": [
                {
                    "output_type": "display_data",
                    "data": {
                        "text/html": "(6 row(s) affected)"
                    },
                    "metadata": {}
                },
                {
                    "output_type": "display_data",
                    "data": {
                        "text/html": "Total execution time: 00:00:01.028"
                    },
                    "metadata": {}
                },
                {
                    "output_type": "execute_result",
                    "metadata": {},
                    "execution_count": 5,
                    "data": {
                        "application/vnd.dataresource+json": {
                            "schema": {
                                "fields": [
                                    {
                                        "name": "Database"
                                    }
                                ]
                            },
                            "data": [
                                {
                                    "Database": "information_schema"
                                },
                                {
                                    "Database": "mysql"
                                },
                                {
                                    "Database": "performance_schema"
                                },
                                {
                                    "Database": "sakila"
                                },
                                {
                                    "Database": "sys"
                                },
                                {
                                    "Database": "world"
                                }
                            ]
                        },
                        "text/html": [
                            "<table>",
                            "<tr><th>Database</th></tr>",
                            "<tr><td>information_schema</td></tr>",
                            "<tr><td>mysql</td></tr>",
                            "<tr><td>performance_schema</td></tr>",
                            "<tr><td>sakila</td></tr>",
                            "<tr><td>sys</td></tr>",
                            "<tr><td>world</td></tr>",
                            "</table>"
                        ]
                    }
                }
            ],
            "execution_count": 5
        },
        {
            "cell_type": "code",
            "source": [
                "create database if  not exists school;"
            ],
            "metadata": {
                "azdata_cell_guid": "a4fae983-01c0-49a6-ae98-4b824a5c60f1",
                "language": "sql"
            },
            "outputs": [
                {
                    "output_type": "display_data",
                    "data": {
                        "text/html": "Commands completed successfully"
                    },
                    "metadata": {}
                },
                {
                    "output_type": "display_data",
                    "data": {
                        "text/html": "Total execution time: 00:00:00"
                    },
                    "metadata": {}
                }
            ],
            "execution_count": 10
        },
        {
            "cell_type": "code",
            "source": [
                "use school;"
            ],
            "metadata": {
                "azdata_cell_guid": "6a938dd2-4d44-4d82-ab1b-56845bef1dd7",
                "language": "sql"
            },
            "outputs": [
                {
                    "output_type": "display_data",
                    "data": {
                        "text/html": "Commands completed successfully"
                    },
                    "metadata": {}
                },
                {
                    "output_type": "display_data",
                    "data": {
                        "text/html": "Total execution time: 00:00:00.004"
                    },
                    "metadata": {}
                }
            ],
            "execution_count": 11
        },
        {
            "cell_type": "code",
            "source": [
                "CREATE TABLE IF NOT EXISTS tasks(\r\n",
                "    task_id INT AUTO_INCREMENT PRIMARY KEY,\r\n",
                "    title VARCHAR(50) NOT NULL,\r\n",
                "    Start_date DATE,\r\n",
                "    due_date DATE,\r\n",
                "    status TINYINT NOT NULL,\r\n",
                "    priority TINYINT NOT NULL,\r\n",
                "    description TEXT,\r\n",
                "    created_at TIMESTAMP DEFAULT CURRENT_TIMESTAMP\r\n",
                ");"
            ],
            "metadata": {
                "azdata_cell_guid": "48eba8ef-f65d-4ebe-85b0-49490a91d926",
                "language": "sql"
            },
            "outputs": [
                {
                    "output_type": "display_data",
                    "data": {
                        "text/html": "Commands completed successfully"
                    },
                    "metadata": {}
                },
                {
                    "output_type": "display_data",
                    "data": {
                        "text/html": "Total execution time: 00:00:00.076"
                    },
                    "metadata": {}
                }
            ],
            "execution_count": 13
        },
        {
            "cell_type": "code",
            "source": [
                "describe tasks;"
            ],
            "metadata": {
                "azdata_cell_guid": "f3447e6a-328a-4319-ad38-08807bc1575b",
                "language": "sql"
            },
            "outputs": [
                {
                    "output_type": "display_data",
                    "data": {
                        "text/html": "(8 row(s) affected)"
                    },
                    "metadata": {}
                },
                {
                    "output_type": "display_data",
                    "data": {
                        "text/html": "Total execution time: 00:00:01.031"
                    },
                    "metadata": {}
                },
                {
                    "output_type": "execute_result",
                    "metadata": {},
                    "execution_count": 15,
                    "data": {
                        "application/vnd.dataresource+json": {
                            "schema": {
                                "fields": [
                                    {
                                        "name": "Field"
                                    },
                                    {
                                        "name": "Type"
                                    },
                                    {
                                        "name": "Null"
                                    },
                                    {
                                        "name": "Key"
                                    },
                                    {
                                        "name": "Default"
                                    },
                                    {
                                        "name": "Extra"
                                    }
                                ]
                            },
                            "data": [
                                {
                                    "Field": "task_id",
                                    "Type": "b'int'",
                                    "Null": "NO",
                                    "Key": "PRI",
                                    "Default": "NULL",
                                    "Extra": "auto_increment"
                                },
                                {
                                    "Field": "title",
                                    "Type": "b'varchar(50)'",
                                    "Null": "NO",
                                    "Key": "",
                                    "Default": "NULL",
                                    "Extra": ""
                                },
                                {
                                    "Field": "Start_date",
                                    "Type": "b'date'",
                                    "Null": "YES",
                                    "Key": "",
                                    "Default": "NULL",
                                    "Extra": ""
                                },
                                {
                                    "Field": "due_date",
                                    "Type": "b'date'",
                                    "Null": "YES",
                                    "Key": "",
                                    "Default": "NULL",
                                    "Extra": ""
                                },
                                {
                                    "Field": "status",
                                    "Type": "b'tinyint'",
                                    "Null": "NO",
                                    "Key": "",
                                    "Default": "NULL",
                                    "Extra": ""
                                },
                                {
                                    "Field": "priority",
                                    "Type": "b'tinyint'",
                                    "Null": "NO",
                                    "Key": "",
                                    "Default": "NULL",
                                    "Extra": ""
                                },
                                {
                                    "Field": "description",
                                    "Type": "b'text'",
                                    "Null": "YES",
                                    "Key": "",
                                    "Default": "NULL",
                                    "Extra": ""
                                },
                                {
                                    "Field": "created_at",
                                    "Type": "b'timestamp'",
                                    "Null": "YES",
                                    "Key": "",
                                    "Default": "b'CURRENT_TIMESTAMP'",
                                    "Extra": "DEFAULT_GENERATED"
                                }
                            ]
                        },
                        "text/html": [
                            "<table>",
                            "<tr><th>Field</th><th>Type</th><th>Null</th><th>Key</th><th>Default</th><th>Extra</th></tr>",
                            "<tr><td>task_id</td><td>b&#39;int&#39;</td><td>NO</td><td>PRI</td><td>NULL</td><td>auto_increment</td></tr>",
                            "<tr><td>title</td><td>b&#39;varchar(50)&#39;</td><td>NO</td><td></td><td>NULL</td><td></td></tr>",
                            "<tr><td>Start_date</td><td>b&#39;date&#39;</td><td>YES</td><td></td><td>NULL</td><td></td></tr>",
                            "<tr><td>due_date</td><td>b&#39;date&#39;</td><td>YES</td><td></td><td>NULL</td><td></td></tr>",
                            "<tr><td>status</td><td>b&#39;tinyint&#39;</td><td>NO</td><td></td><td>NULL</td><td></td></tr>",
                            "<tr><td>priority</td><td>b&#39;tinyint&#39;</td><td>NO</td><td></td><td>NULL</td><td></td></tr>",
                            "<tr><td>description</td><td>b&#39;text&#39;</td><td>YES</td><td></td><td>NULL</td><td></td></tr>",
                            "<tr><td>created_at</td><td>b&#39;timestamp&#39;</td><td>YES</td><td></td><td>b&#39;CURRENT_TIMESTAMP&#39;</td><td>DEFAULT_GENERATED</td></tr>",
                            "</table>"
                        ]
                    }
                }
            ],
            "execution_count": 15
        },
        {
            "cell_type": "code",
            "source": [
                "CREATE TABLE IF NOT EXISTS checklist(\r\n",
                "    todo_id INT AUTO_INCREMENT,\r\n",
                "    task_id INT,\r\n",
                "    todo VARCHAR(255) NOT NULL,\r\n",
                "    is_completed BOOLEAN NOT NULL DEFAULT FALSE,\r\n",
                "    PRIMARY KEY (todo_id, task_id),\r\n",
                "    FOREIGN KEY (task_id) REFERENCES taskS(task_id) ON UPDATE RESTRICT ON DELETE CASCADE\r\n",
                ");"
            ],
            "metadata": {
                "azdata_cell_guid": "90876ac2-ae14-4db2-9392-4164eacdb9e1",
                "language": "sql"
            },
            "outputs": [
                {
                    "output_type": "display_data",
                    "data": {
                        "text/html": "Commands completed successfully"
                    },
                    "metadata": {}
                },
                {
                    "output_type": "display_data",
                    "data": {
                        "text/html": "Total execution time: 00:00:00.055"
                    },
                    "metadata": {}
                }
            ],
            "execution_count": 17
        },
        {
            "cell_type": "code",
            "source": [
                "describe checklist;"
            ],
            "metadata": {
                "azdata_cell_guid": "019ed61a-e13d-41fc-a1fb-4f2cac44ebb9",
                "language": "sql"
            },
            "outputs": [
{
    "output_type": "display_data",
    "data": {
        "text/html": "(4 row(s) affected)"
    },
    "metadata": {}
}, {
    "output_type": "display_data",
    "data": {
        "text/html": "Total execution time: 00:00:01.012"
    },
    "metadata": {}
}, {
    "output_type": "execute_result",
    "metadata": {},
    "execution_count": 19,
    "data": {
        "application/vnd.dataresource+json": {
            "schema": {
                "fields": [
                    {
                        "name": "Field"
                    },
                    {
                        "name": "Type"
                    },
                    {
                        "name": "Null"
                    },
                    {
                        "name": "Key"
                    },
                    {
                        "name": "Default"
                    },
                    {
                        "name": "Extra"
                    }
                ]
            },
            "data": [
                {
                    "Field": "todo_id",
                    "Type": "b'int'",
                    "Null": "NO",
                    "Key": "PRI",
                    "Default": "NULL",
                    "Extra": "auto_increment"
                },
                {
                    "Field": "task_id",
                    "Type": "b'int'",
                    "Null": "NO",
                    "Key": "PRI",
                    "Default": "NULL",
                    "Extra": ""
                },
                {
                    "Field": "todo",
                    "Type": "b'varchar(255)'",
                    "Null": "NO",
                    "Key": "",
                    "Default": "NULL",
                    "Extra": ""
                },
                {
                    "Field": "is_completed",
                    "Type": "b'tinyint(1)'",
                    "Null": "NO",
                    "Key": "",
                    "Default": "b'0'",
                    "Extra": ""
                }
            ]
        },
        "text/html": [
            "<table>",
            "<tr><th>Field</th><th>Type</th><th>Null</th><th>Key</th><th>Default</th><th>Extra</th></tr>",
            "<tr><td>todo_id</td><td>b&#39;int&#39;</td><td>NO</td><td>PRI</td><td>NULL</td><td>auto_increment</td></tr>",
            "<tr><td>task_id</td><td>b&#39;int&#39;</td><td>NO</td><td>PRI</td><td>NULL</td><td></td></tr>",
            "<tr><td>todo</td><td>b&#39;varchar(255)&#39;</td><td>NO</td><td></td><td>NULL</td><td></td></tr>",
            "<tr><td>is_completed</td><td>b&#39;tinyint(1)&#39;</td><td>NO</td><td></td><td>b&#39;0&#39;</td><td></td></tr>",
            "</table>"
        ]
    }
}
],
            "execution_count": 19
        }
    ]
}