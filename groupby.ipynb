{
    "metadata": {
        "kernelspec": {
            "name": "SQL",
            "display_name": "SQL",
            "language": "sql"
        },
        "language_info": {
            "name": "sql",
            "version": ""
        }
    },
    "nbformat_minor": 2,
    "nbformat": 4,
    "cells": [
        {
            "cell_type": "code",
            "source": [
                "use sakila;\r\n",
                ""
            ],
            "metadata": {
                "azdata_cell_guid": "e6263558-574d-49af-8551-37f4f2f813ae",
                "language": "sql"
            },
            "outputs": [
                {
                    "output_type": "display_data",
                    "data": {
                        "text/html": "Commands completed successfully"
                    },
                    "metadata": {}
                },
                {
                    "output_type": "display_data",
                    "data": {
                        "text/html": "Total execution time: 00:00:00"
                    },
                    "metadata": {}
                }
            ],
            "execution_count": 17
        },
        {
            "cell_type": "code",
            "source": [
                "select * from customer limit 2;"
            ],
            "metadata": {
                "azdata_cell_guid": "db8d3d9d-c4d2-4e1b-9a5b-8452b7fb4a62",
                "language": "sql"
            },
            "outputs": [
                {
                    "output_type": "display_data",
                    "data": {
                        "text/html": "(2 row(s) affected)"
                    },
                    "metadata": {}
                },
                {
                    "output_type": "display_data",
                    "data": {
                        "text/html": "Total execution time: 00:00:01.004"
                    },
                    "metadata": {}
                },
                {
                    "output_type": "execute_result",
                    "metadata": {},
                    "execution_count": 18,
                    "data": {
                        "application/vnd.dataresource+json": {
                            "schema": {
                                "fields": [
                                    {
                                        "name": "customer_id"
                                    },
                                    {
                                        "name": "store_id"
                                    },
                                    {
                                        "name": "first_name"
                                    },
                                    {
                                        "name": "last_name"
                                    },
                                    {
                                        "name": "email"
                                    },
                                    {
                                        "name": "address_id"
                                    },
                                    {
                                        "name": "active"
                                    },
                                    {
                                        "name": "create_date"
                                    },
                                    {
                                        "name": "last_update"
                                    }
                                ]
                            },
                            "data": [
                                {
                                    "customer_id": "1",
                                    "store_id": "1",
                                    "first_name": "MARY",
                                    "last_name": "SMITH",
                                    "email": "MARY.SMITH@sakilacustomer.org",
                                    "address_id": "5",
                                    "active": "1",
                                    "create_date": "2006-02-14 22:04:36",
                                    "last_update": "2006-02-15 04:57:20"
                                },
                                {
                                    "customer_id": "2",
                                    "store_id": "1",
                                    "first_name": "PATRICIA",
                                    "last_name": "JOHNSON",
                                    "email": "PATRICIA.JOHNSON@sakilacustomer.org",
                                    "address_id": "6",
                                    "active": "1",
                                    "create_date": "2006-02-14 22:04:36",
                                    "last_update": "2006-02-15 04:57:20"
                                }
                            ]
                        },
                        "text/html": [
                            "<table>",
                            "<tr><th>customer_id</th><th>store_id</th><th>first_name</th><th>last_name</th><th>email</th><th>address_id</th><th>active</th><th>create_date</th><th>last_update</th></tr>",
                            "<tr><td>1</td><td>1</td><td>MARY</td><td>SMITH</td><td>MARY.SMITH@sakilacustomer.org</td><td>5</td><td>1</td><td>2006-02-14 22:04:36</td><td>2006-02-15 04:57:20</td></tr>",
                            "<tr><td>2</td><td>1</td><td>PATRICIA</td><td>JOHNSON</td><td>PATRICIA.JOHNSON@sakilacustomer.org</td><td>6</td><td>1</td><td>2006-02-14 22:04:36</td><td>2006-02-15 04:57:20</td></tr>",
                            "</table>"
                        ]
                    }
                }
            ],
            "execution_count": 18
        },
        {
            "cell_type": "code",
            "source": [
                "select active, count(customer_id) from customer group by active;"
            ],
            "metadata": {
                "language": "sql",
                "azdata_cell_guid": "596bca77-ccaa-4731-9143-1d72878d08ae"
            },
            "outputs": [
                {
                    "output_type": "display_data",
                    "data": {
                        "text/html": "(2 row(s) affected)"
                    },
                    "metadata": {}
                },
                {
                    "output_type": "display_data",
                    "data": {
                        "text/html": "Total execution time: 00:00:01.017"
                    },
                    "metadata": {}
                },
                {
                    "output_type": "execute_result",
                    "metadata": {},
                    "execution_count": 19,
                    "data": {
                        "application/vnd.dataresource+json": {
                            "schema": {
                                "fields": [
                                    {
                                        "name": "active"
                                    },
                                    {
                                        "name": "count(customer_id)"
                                    }
                                ]
                            },
                            "data": [
                                {
                                    "active": "1",
                                    "count(customer_id)": "584"
                                },
                                {
                                    "active": "0",
                                    "count(customer_id)": "15"
                                }
                            ]
                        },
                        "text/html": [
                            "<table>",
                            "<tr><th>active</th><th>count(customer_id)</th></tr>",
                            "<tr><td>1</td><td>584</td></tr>",
                            "<tr><td>0</td><td>15</td></tr>",
                            "</table>"
                        ]
                    }
                }
            ],
            "execution_count": 19
        },
        {
            "cell_type": "code",
            "source": [
                "select store_id, count(customer_id) from customer group by store_id;"
            ],
            "metadata": {
                "language": "sql",
                "azdata_cell_guid": "4dce5c4a-e63d-4583-9c27-575f998ef016"
            },
            "outputs": [
                {
                    "output_type": "display_data",
                    "data": {
                        "text/html": "(2 row(s) affected)"
                    },
                    "metadata": {}
                },
                {
                    "output_type": "display_data",
                    "data": {
                        "text/html": "Total execution time: 00:00:01.006"
                    },
                    "metadata": {}
                },
                {
                    "output_type": "execute_result",
                    "metadata": {},
                    "execution_count": 20,
                    "data": {
                        "application/vnd.dataresource+json": {
                            "schema": {
                                "fields": [
                                    {
                                        "name": "store_id"
                                    },
                                    {
                                        "name": "count(customer_id)"
                                    }
                                ]
                            },
                            "data": [
                                {
                                    "store_id": "1",
                                    "count(customer_id)": "326"
                                },
                                {
                                    "store_id": "2",
                                    "count(customer_id)": "273"
                                }
                            ]
                        },
                        "text/html": [
                            "<table>",
                            "<tr><th>store_id</th><th>count(customer_id)</th></tr>",
                            "<tr><td>1</td><td>326</td></tr>",
                            "<tr><td>2</td><td>273</td></tr>",
                            "</table>"
                        ]
                    }
                }
            ],
            "execution_count": 20
        },
        {
            "cell_type": "code",
            "source": [
                "select count(film_id), release_year from film group by release_year;"
            ],
            "metadata": {
                "language": "sql",
                "azdata_cell_guid": "03bd6bf5-0cef-46d5-ac0b-466fa42c43d3"
            },
            "outputs": [
                {
                    "output_type": "display_data",
                    "data": {
                        "text/html": "(1 row(s) affected)"
                    },
                    "metadata": {}
                },
                {
                    "output_type": "display_data",
                    "data": {
                        "text/html": "Total execution time: 00:00:01.014"
                    },
                    "metadata": {}
                },
                {
                    "output_type": "execute_result",
                    "metadata": {},
                    "execution_count": 21,
                    "data": {
                        "application/vnd.dataresource+json": {
                            "schema": {
                                "fields": [
                                    {
                                        "name": "count(film_id)"
                                    },
                                    {
                                        "name": "release_year"
                                    }
                                ]
                            },
                            "data": [
                                {
                                    "count(film_id)": "1000",
                                    "release_year": "2006"
                                }
                            ]
                        },
                        "text/html": [
                            "<table>",
                            "<tr><th>count(film_id)</th><th>release_year</th></tr>",
                            "<tr><td>1000</td><td>2006</td></tr>",
                            "</table>"
                        ]
                    }
                }
            ],
            "execution_count": 21
        },
        {
            "cell_type": "code",
            "source": [
                "select rating, count(film_id)\r\n",
                " from film \r\n",
                " group by rating;"
            ],
            "metadata": {
                "language": "sql",
                "azdata_cell_guid": "2a2a6e9c-414f-4f74-9952-19ac05b71a0e"
            },
            "outputs": [
                {
                    "output_type": "display_data",
                    "data": {
                        "text/html": "(5 row(s) affected)"
                    },
                    "metadata": {}
                },
                {
                    "output_type": "display_data",
                    "data": {
                        "text/html": "Total execution time: 00:00:01.021"
                    },
                    "metadata": {}
                },
                {
                    "output_type": "execute_result",
                    "metadata": {},
                    "execution_count": 22,
                    "data": {
                        "application/vnd.dataresource+json": {
                            "schema": {
                                "fields": [
                                    {
                                        "name": "rating"
                                    },
                                    {
                                        "name": "count(film_id)"
                                    }
                                ]
                            },
                            "data": [
                                {
                                    "rating": "PG",
                                    "count(film_id)": "194"
                                },
                                {
                                    "rating": "G",
                                    "count(film_id)": "178"
                                },
                                {
                                    "rating": "NC-17",
                                    "count(film_id)": "210"
                                },
                                {
                                    "rating": "PG-13",
                                    "count(film_id)": "223"
                                },
                                {
                                    "rating": "R",
                                    "count(film_id)": "195"
                                }
                            ]
                        },
                        "text/html": [
                            "<table>",
                            "<tr><th>rating</th><th>count(film_id)</th></tr>",
                            "<tr><td>PG</td><td>194</td></tr>",
                            "<tr><td>G</td><td>178</td></tr>",
                            "<tr><td>NC-17</td><td>210</td></tr>",
                            "<tr><td>PG-13</td><td>223</td></tr>",
                            "<tr><td>R</td><td>195</td></tr>",
                            "</table>"
                        ]
                    }
                }
            ],
            "execution_count": 22
        },
        {
            "cell_type": "code",
            "source": [
                "--count the number of movie on the basis of rental_duration and rating \r\n",
                "\r\n",
                "select \r\n",
                "  count(film_id) as number_of_films,\r\n",
                "  rental_duration,\r\n",
                "  rating\r\n",
                "from film \r\n",
                "group by rental_duration, rating\r\n",
                "order by rental_duration ,rating;  "
            ],
            "metadata": {
                "azdata_cell_guid": "cf37fa49-6da3-4871-9918-52cb23fc2fcc",
                "language": "sql"
            },
            "outputs": [
                {
                    "output_type": "display_data",
                    "data": {
                        "text/html": "(25 row(s) affected)"
                    },
                    "metadata": {}
                },
                {
                    "output_type": "display_data",
                    "data": {
                        "text/html": "Total execution time: 00:00:01.011"
                    },
                    "metadata": {}
                },
                {
                    "output_type": "execute_result",
                    "metadata": {},
                    "execution_count": 23,
                    "data": {
                        "application/vnd.dataresource+json": {
                            "schema": {
                                "fields": [
                                    {
                                        "name": "number_of_films"
                                    },
                                    {
                                        "name": "rental_duration"
                                    },
                                    {
                                        "name": "rating"
                                    }
                                ]
                            },
                            "data": [
                                {
                                    "number_of_films": "49",
                                    "rental_duration": "3",
                                    "rating": "G"
                                },
                                {
                                    "number_of_films": "36",
                                    "rental_duration": "3",
                                    "rating": "PG"
                                },
                                {
                                    "number_of_films": "39",
                                    "rental_duration": "3",
                                    "rating": "PG-13"
                                },
                                {
                                    "number_of_films": "42",
                                    "rental_duration": "3",
                                    "rating": "R"
                                },
                                {
                                    "number_of_films": "37",
                                    "rental_duration": "3",
                                    "rating": "NC-17"
                                },
                                {
                                    "number_of_films": "28",
                                    "rental_duration": "4",
                                    "rating": "G"
                                },
                                {
                                    "number_of_films": "41",
                                    "rental_duration": "4",
                                    "rating": "PG"
                                },
                                {
                                    "number_of_films": "48",
                                    "rental_duration": "4",
                                    "rating": "PG-13"
                                },
                                {
                                    "number_of_films": "53",
                                    "rental_duration": "4",
                                    "rating": "R"
                                },
                                {
                                    "number_of_films": "33",
                                    "rental_duration": "4",
                                    "rating": "NC-17"
                                },
                                {
                                    "number_of_films": "33",
                                    "rental_duration": "5",
                                    "rating": "G"
                                },
                                {
                                    "number_of_films": "33",
                                    "rental_duration": "5",
                                    "rating": "PG"
                                },
                                {
                                    "number_of_films": "42",
                                    "rental_duration": "5",
                                    "rating": "PG-13"
                                },
                                {
                                    "number_of_films": "40",
                                    "rental_duration": "5",
                                    "rating": "R"
                                },
                                {
                                    "number_of_films": "43",
                                    "rental_duration": "5",
                                    "rating": "NC-17"
                                },
                                {
                                    "number_of_films": "39",
                                    "rental_duration": "6",
                                    "rating": "G"
                                },
                                {
                                    "number_of_films": "39",
                                    "rental_duration": "6",
                                    "rating": "PG"
                                },
                                {
                                    "number_of_films": "50",
                                    "rental_duration": "6",
                                    "rating": "PG-13"
                                },
                                {
                                    "number_of_films": "27",
                                    "rental_duration": "6",
                                    "rating": "R"
                                },
                                {
                                    "number_of_films": "57",
                                    "rental_duration": "6",
                                    "rating": "NC-17"
                                },
                                {
                                    "number_of_films": "29",
                                    "rental_duration": "7",
                                    "rating": "G"
                                },
                                {
                                    "number_of_films": "45",
                                    "rental_duration": "7",
                                    "rating": "PG"
                                },
                                {
                                    "number_of_films": "44",
                                    "rental_duration": "7",
                                    "rating": "PG-13"
                                },
                                {
                                    "number_of_films": "33",
                                    "rental_duration": "7",
                                    "rating": "R"
                                },
                                {
                                    "number_of_films": "40",
                                    "rental_duration": "7",
                                    "rating": "NC-17"
                                }
                            ]
                        },
                        "text/html": [
                            "<table>",
                            "<tr><th>number_of_films</th><th>rental_duration</th><th>rating</th></tr>",
                            "<tr><td>49</td><td>3</td><td>G</td></tr>",
                            "<tr><td>36</td><td>3</td><td>PG</td></tr>",
                            "<tr><td>39</td><td>3</td><td>PG-13</td></tr>",
                            "<tr><td>42</td><td>3</td><td>R</td></tr>",
                            "<tr><td>37</td><td>3</td><td>NC-17</td></tr>",
                            "<tr><td>28</td><td>4</td><td>G</td></tr>",
                            "<tr><td>41</td><td>4</td><td>PG</td></tr>",
                            "<tr><td>48</td><td>4</td><td>PG-13</td></tr>",
                            "<tr><td>53</td><td>4</td><td>R</td></tr>",
                            "<tr><td>33</td><td>4</td><td>NC-17</td></tr>",
                            "<tr><td>33</td><td>5</td><td>G</td></tr>",
                            "<tr><td>33</td><td>5</td><td>PG</td></tr>",
                            "<tr><td>42</td><td>5</td><td>PG-13</td></tr>",
                            "<tr><td>40</td><td>5</td><td>R</td></tr>",
                            "<tr><td>43</td><td>5</td><td>NC-17</td></tr>",
                            "<tr><td>39</td><td>6</td><td>G</td></tr>",
                            "<tr><td>39</td><td>6</td><td>PG</td></tr>",
                            "<tr><td>50</td><td>6</td><td>PG-13</td></tr>",
                            "<tr><td>27</td><td>6</td><td>R</td></tr>",
                            "<tr><td>57</td><td>6</td><td>NC-17</td></tr>",
                            "<tr><td>29</td><td>7</td><td>G</td></tr>",
                            "<tr><td>45</td><td>7</td><td>PG</td></tr>",
                            "<tr><td>44</td><td>7</td><td>PG-13</td></tr>",
                            "<tr><td>33</td><td>7</td><td>R</td></tr>",
                            "<tr><td>40</td><td>7</td><td>NC-17</td></tr>",
                            "</table>"
                        ]
                    }
                }
            ],
            "execution_count": 23
        },
        {
            "cell_type": "code",
            "source": [
                "select MAX(replacement_cost),rating\r\n",
                "from film \r\n",
                "group by rating;\r\n",
                "  "
            ],
            "metadata": {
                "language": "sql",
                "azdata_cell_guid": "e3860cf4-3051-458a-9c84-674ffeec3caa"
            },
            "outputs": [
                {
                    "output_type": "display_data",
                    "data": {
                        "text/html": "(5 row(s) affected)"
                    },
                    "metadata": {}
                },
                {
                    "output_type": "display_data",
                    "data": {
                        "text/html": "Total execution time: 00:00:01.012"
                    },
                    "metadata": {}
                },
                {
                    "output_type": "execute_result",
                    "metadata": {},
                    "execution_count": 24,
                    "data": {
                        "application/vnd.dataresource+json": {
                            "schema": {
                                "fields": [
                                    {
                                        "name": "MAX(replacement_cost)"
                                    },
                                    {
                                        "name": "rating"
                                    }
                                ]
                            },
                            "data": [
                                {
                                    "MAX(replacement_cost)": "29.99",
                                    "rating": "PG"
                                },
                                {
                                    "MAX(replacement_cost)": "29.99",
                                    "rating": "G"
                                },
                                {
                                    "MAX(replacement_cost)": "29.99",
                                    "rating": "NC-17"
                                },
                                {
                                    "MAX(replacement_cost)": "29.99",
                                    "rating": "PG-13"
                                },
                                {
                                    "MAX(replacement_cost)": "29.99",
                                    "rating": "R"
                                }
                            ]
                        },
                        "text/html": [
                            "<table>",
                            "<tr><th>MAX(replacement_cost)</th><th>rating</th></tr>",
                            "<tr><td>29.99</td><td>PG</td></tr>",
                            "<tr><td>29.99</td><td>G</td></tr>",
                            "<tr><td>29.99</td><td>NC-17</td></tr>",
                            "<tr><td>29.99</td><td>PG-13</td></tr>",
                            "<tr><td>29.99</td><td>R</td></tr>",
                            "</table>"
                        ]
                    }
                }
            ],
            "execution_count": 24
        },
        {
            "cell_type": "code",
            "source": [
                "select \r\n",
                "  MAX(replacement_cost),\r\n",
                "  MIN(replacement_cost),\r\n",
                "  AVG(replacement_cost),\r\n",
                "  rating\r\n",
                "from Film \r\n",
                "group by rating;  "
            ],
            "metadata": {
                "language": "sql",
                "azdata_cell_guid": "beaabb5e-8a64-483c-8782-4a12200aa709"
            },
            "outputs": [
                {
                    "output_type": "display_data",
                    "data": {
                        "text/html": "(5 row(s) affected)"
                    },
                    "metadata": {}
                },
                {
                    "output_type": "display_data",
                    "data": {
                        "text/html": "Total execution time: 00:00:01.017"
                    },
                    "metadata": {}
                },
                {
                    "output_type": "execute_result",
                    "metadata": {},
                    "execution_count": 25,
                    "data": {
                        "application/vnd.dataresource+json": {
                            "schema": {
                                "fields": [
                                    {
                                        "name": "MAX(replacement_cost)"
                                    },
                                    {
                                        "name": "MIN(replacement_cost)"
                                    },
                                    {
                                        "name": "AVG(replacement_cost)"
                                    },
                                    {
                                        "name": "rating"
                                    }
                                ]
                            },
                            "data": [
                                {
                                    "MAX(replacement_cost)": "29.99",
                                    "MIN(replacement_cost)": "9.99",
                                    "AVG(replacement_cost)": "18.959072",
                                    "rating": "PG"
                                },
                                {
                                    "MAX(replacement_cost)": "29.99",
                                    "MIN(replacement_cost)": "9.99",
                                    "AVG(replacement_cost)": "20.124831",
                                    "rating": "G"
                                },
                                {
                                    "MAX(replacement_cost)": "29.99",
                                    "MIN(replacement_cost)": "9.99",
                                    "AVG(replacement_cost)": "20.137619",
                                    "rating": "NC-17"
                                },
                                {
                                    "MAX(replacement_cost)": "29.99",
                                    "MIN(replacement_cost)": "9.99",
                                    "AVG(replacement_cost)": "20.402556",
                                    "rating": "PG-13"
                                },
                                {
                                    "MAX(replacement_cost)": "29.99",
                                    "MIN(replacement_cost)": "9.99",
                                    "AVG(replacement_cost)": "20.231026",
                                    "rating": "R"
                                }
                            ]
                        },
                        "text/html": [
                            "<table>",
                            "<tr><th>MAX(replacement_cost)</th><th>MIN(replacement_cost)</th><th>AVG(replacement_cost)</th><th>rating</th></tr>",
                            "<tr><td>29.99</td><td>9.99</td><td>18.959072</td><td>PG</td></tr>",
                            "<tr><td>29.99</td><td>9.99</td><td>20.124831</td><td>G</td></tr>",
                            "<tr><td>29.99</td><td>9.99</td><td>20.137619</td><td>NC-17</td></tr>",
                            "<tr><td>29.99</td><td>9.99</td><td>20.402556</td><td>PG-13</td></tr>",
                            "<tr><td>29.99</td><td>9.99</td><td>20.231026</td><td>R</td></tr>",
                            "</table>"
                        ]
                    }
                }
            ],
            "execution_count": 25
        },
        {
            "cell_type": "code",
            "source": [
                "select \r\n",
                "   AVG(rental_rate),\r\n",
                "   AVG(length)\r\n",
                "from \r\n",
                "film \r\n",
                "group by \r\n",
                "   rental_duration;\r\n",
                ""
            ],
            "metadata": {
                "language": "sql",
                "azdata_cell_guid": "53cc09c4-96bc-46b6-8740-28fd25b4120e"
            },
            "outputs": [
                {
                    "output_type": "display_data",
                    "data": {
                        "text/html": "(5 row(s) affected)"
                    },
                    "metadata": {}
                },
                {
                    "output_type": "display_data",
                    "data": {
                        "text/html": "Total execution time: 00:00:01.016"
                    },
                    "metadata": {}
                },
                {
                    "output_type": "execute_result",
                    "metadata": {},
                    "execution_count": 26,
                    "data": {
                        "application/vnd.dataresource+json": {
                            "schema": {
                                "fields": [
                                    {
                                        "name": "AVG(rental_rate)"
                                    },
                                    {
                                        "name": "AVG(length)"
                                    }
                                ]
                            },
                            "data": [
                                {
                                    "AVG(rental_rate)": "2.895660",
                                    "AVG(length)": "117.0377"
                                },
                                {
                                    "AVG(rental_rate)": "2.832365",
                                    "AVG(length)": "112.9113"
                                },
                                {
                                    "AVG(rental_rate)": "3.021414",
                                    "AVG(length)": "118.8272"
                                },
                                {
                                    "AVG(rental_rate)": "3.199424",
                                    "AVG(length)": "116.5602"
                                },
                                {
                                    "AVG(rental_rate)": "2.970296",
                                    "AVG(length)": "111.2315"
                                }
                            ]
                        },
                        "text/html": [
                            "<table>",
                            "<tr><th>AVG(rental_rate)</th><th>AVG(length)</th></tr>",
                            "<tr><td>2.895660</td><td>117.0377</td></tr>",
                            "<tr><td>2.832365</td><td>112.9113</td></tr>",
                            "<tr><td>3.021414</td><td>118.8272</td></tr>",
                            "<tr><td>3.199424</td><td>116.5602</td></tr>",
                            "<tr><td>2.970296</td><td>111.2315</td></tr>",
                            "</table>"
                        ]
                    }
                }
            ],
            "execution_count": 26
        },
        {
            "cell_type": "code",
            "source": [
                "\r\n",
                "select \r\n",
                "  count(film_id) as number_of_films,\r\n",
                "  rental_duration,\r\n",
                "  rating\r\n",
                "from \r\n",
                "  film  \r\n",
                "group by\r\n",
                "  rental_duration, rating\r\n",
                "having number_of_films>30  \r\n",
                "order by \r\n",
                "  rental_duration ,rating;  "
            ],
            "metadata": {
                "azdata_cell_guid": "c60c10a5-168f-44f9-a164-e406df5e94bc",
                "language": "sql"
            },
            "outputs": [
{
    "output_type": "display_data",
    "data": {
        "text/html": "(22 row(s) affected)"
    },
    "metadata": {}
}, {
    "output_type": "display_data",
    "data": {
        "text/html": "Total execution time: 00:00:01.008"
    },
    "metadata": {}
}, {
    "output_type": "execute_result",
    "metadata": {},
    "execution_count": 27,
    "data": {
        "application/vnd.dataresource+json": {
            "schema": {
                "fields": [
                    {
                        "name": "number_of_films"
                    },
                    {
                        "name": "rental_duration"
                    },
                    {
                        "name": "rating"
                    }
                ]
            },
            "data": [
                {
                    "number_of_films": "49",
                    "rental_duration": "3",
                    "rating": "G"
                },
                {
                    "number_of_films": "36",
                    "rental_duration": "3",
                    "rating": "PG"
                },
                {
                    "number_of_films": "39",
                    "rental_duration": "3",
                    "rating": "PG-13"
                },
                {
                    "number_of_films": "42",
                    "rental_duration": "3",
                    "rating": "R"
                },
                {
                    "number_of_films": "37",
                    "rental_duration": "3",
                    "rating": "NC-17"
                },
                {
                    "number_of_films": "41",
                    "rental_duration": "4",
                    "rating": "PG"
                },
                {
                    "number_of_films": "48",
                    "rental_duration": "4",
                    "rating": "PG-13"
                },
                {
                    "number_of_films": "53",
                    "rental_duration": "4",
                    "rating": "R"
                },
                {
                    "number_of_films": "33",
                    "rental_duration": "4",
                    "rating": "NC-17"
                },
                {
                    "number_of_films": "33",
                    "rental_duration": "5",
                    "rating": "G"
                },
                {
                    "number_of_films": "33",
                    "rental_duration": "5",
                    "rating": "PG"
                },
                {
                    "number_of_films": "42",
                    "rental_duration": "5",
                    "rating": "PG-13"
                },
                {
                    "number_of_films": "40",
                    "rental_duration": "5",
                    "rating": "R"
                },
                {
                    "number_of_films": "43",
                    "rental_duration": "5",
                    "rating": "NC-17"
                },
                {
                    "number_of_films": "39",
                    "rental_duration": "6",
                    "rating": "G"
                },
                {
                    "number_of_films": "39",
                    "rental_duration": "6",
                    "rating": "PG"
                },
                {
                    "number_of_films": "50",
                    "rental_duration": "6",
                    "rating": "PG-13"
                },
                {
                    "number_of_films": "57",
                    "rental_duration": "6",
                    "rating": "NC-17"
                },
                {
                    "number_of_films": "45",
                    "rental_duration": "7",
                    "rating": "PG"
                },
                {
                    "number_of_films": "44",
                    "rental_duration": "7",
                    "rating": "PG-13"
                },
                {
                    "number_of_films": "33",
                    "rental_duration": "7",
                    "rating": "R"
                },
                {
                    "number_of_films": "40",
                    "rental_duration": "7",
                    "rating": "NC-17"
                }
            ]
        },
        "text/html": [
            "<table>",
            "<tr><th>number_of_films</th><th>rental_duration</th><th>rating</th></tr>",
            "<tr><td>49</td><td>3</td><td>G</td></tr>",
            "<tr><td>36</td><td>3</td><td>PG</td></tr>",
            "<tr><td>39</td><td>3</td><td>PG-13</td></tr>",
            "<tr><td>42</td><td>3</td><td>R</td></tr>",
            "<tr><td>37</td><td>3</td><td>NC-17</td></tr>",
            "<tr><td>41</td><td>4</td><td>PG</td></tr>",
            "<tr><td>48</td><td>4</td><td>PG-13</td></tr>",
            "<tr><td>53</td><td>4</td><td>R</td></tr>",
            "<tr><td>33</td><td>4</td><td>NC-17</td></tr>",
            "<tr><td>33</td><td>5</td><td>G</td></tr>",
            "<tr><td>33</td><td>5</td><td>PG</td></tr>",
            "<tr><td>42</td><td>5</td><td>PG-13</td></tr>",
            "<tr><td>40</td><td>5</td><td>R</td></tr>",
            "<tr><td>43</td><td>5</td><td>NC-17</td></tr>",
            "<tr><td>39</td><td>6</td><td>G</td></tr>",
            "<tr><td>39</td><td>6</td><td>PG</td></tr>",
            "<tr><td>50</td><td>6</td><td>PG-13</td></tr>",
            "<tr><td>57</td><td>6</td><td>NC-17</td></tr>",
            "<tr><td>45</td><td>7</td><td>PG</td></tr>",
            "<tr><td>44</td><td>7</td><td>PG-13</td></tr>",
            "<tr><td>33</td><td>7</td><td>R</td></tr>",
            "<tr><td>40</td><td>7</td><td>NC-17</td></tr>",
            "</table>"
        ]
    }
}
],
            "execution_count": 27
        },
        {
            "cell_type": "markdown",
            "source": [
                "create a new database company \n",
                "\n",
                "1\\. create a table products with following columns\n",
                "\n",
                "  1.id \n",
                "\n",
                "  2.title\n",
                "\n",
                "  3.price\n",
                "\n",
                "  4.discount\n",
                "\n",
                "  5.brand\n",
                "\n",
                "  6.category\n",
                "\n",
                "  7.quantity\n",
                "\n",
                "2\\. insert 50 record into the table"
            ],
            "metadata": {
                "azdata_cell_guid": "5e945956-d6d4-437d-895b-f7f8b8b826af"
            },
            "attachments": {}
        }
    ]
}