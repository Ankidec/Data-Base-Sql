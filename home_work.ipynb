{
    "metadata": {
        "kernelspec": {
            "name": "SQL",
            "display_name": "SQL",
            "language": "sql"
        },
        "language_info": {
            "name": "sql",
            "version": ""
        }
    },
    "nbformat_minor": 2,
    "nbformat": 4,
    "cells": [
        {
            "cell_type": "code",
            "source": [
                "CREATE DATABASE IF NOT EXISTS COMPANY;"
            ],
            "metadata": {
                "language": "sql",
                "azdata_cell_guid": "89ffa159-4d1c-42b4-9bde-8dc33bb3f68b"
            },
            "outputs": [
                {
                    "output_type": "display_data",
                    "data": {
                        "text/html": "Commands completed successfully"
                    },
                    "metadata": {}
                },
                {
                    "output_type": "display_data",
                    "data": {
                        "text/html": "Total execution time: 00:00:00.002"
                    },
                    "metadata": {}
                }
            ],
            "execution_count": 18
        },
        {
            "cell_type": "code",
            "source": [
                "CREATE TABLE products (\r\n",
                "    product_id INT PRIMARY KEY,\r\n",
                "    title VARCHAR(255),\r\n",
                "    price DECIMAL(10, 2),\r\n",
                "    discount DECIMAL(5, 2),\r\n",
                "    brand VARCHAR(100),\r\n",
                "    category VARCHAR(100),\r\n",
                "    quantity INT\r\n",
                ");\r\n",
                ""
            ],
            "metadata": {
                "language": "sql",
                "azdata_cell_guid": "2d05958d-1599-4205-8472-ff9e013f98ff"
            },
            "outputs": [
                {
                    "output_type": "display_data",
                    "data": {
                        "text/html": "Total execution time: 00:00:00"
                    },
                    "metadata": {}
                }
            ],
            "execution_count": 19
        },
        {
            "cell_type": "code",
            "source": [
                "use company;"
            ],
            "metadata": {
                "azdata_cell_guid": "697b49a3-1417-4653-89b3-c00d206c6b9f",
                "language": "sql"
            },
            "outputs": [
{
    "output_type": "error",
    "evalue": "1050 (42S01): Table 'products' already exists",
    "ename": "",
    "traceback": []
}, {
    "output_type": "display_data",
    "data": {
        "text/html": "Commands completed successfully"
    },
    "metadata": {}
}, {
    "output_type": "display_data",
    "data": {
        "text/html": "Total execution time: 00:00:00.001"
    },
    "metadata": {}
}
],
            "execution_count": 20
        },
        {
            "cell_type": "code",
            "source": [
                "INSERT INTO products (product_id, title, price, discount, brand, category, quantity)\r\n",
                "VALUES (1, 'Product Title 1', 50.00, 10, 'Brand A', 'Category X', 100);\r\n",
                ""
            ],
            "metadata": {
                "language": "sql",
                "azdata_cell_guid": "3578866b-410e-4b0e-838d-723d0a7b8f42"
            },
            "outputs": [
                {
                    "output_type": "display_data",
                    "data": {
                        "text/html": "Total execution time: 00:00:00"
                    },
                    "metadata": {}
                },
                {
                    "output_type": "error",
                    "evalue": "1062 (23000): Duplicate entry '1' for key 'products.PRIMARY'",
                    "ename": "",
                    "traceback": []
                }
            ],
            "execution_count": 17
        }
    ]
}